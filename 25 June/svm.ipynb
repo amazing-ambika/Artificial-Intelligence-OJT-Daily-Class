{
 "cells": [
  {
   "cell_type": "code",
   "execution_count": 2,
   "id": "4cb35380-801b-4521-89ed-62de313ad141",
   "metadata": {},
   "outputs": [],
   "source": [
    "from sklearn.datasets import  load_iris\n",
    "iris = load_iris()"
   ]
  },
  {
   "cell_type": "code",
   "execution_count": 4,
   "id": "31871727-2a0d-467a-85da-cb1e89015062",
   "metadata": {},
   "outputs": [],
   "source": [
    "import pandas as pd \n"
   ]
  },
  {
   "cell_type": "code",
   "execution_count": 5,
   "id": "18c8c44b-692f-48d8-8ab3-324e6f064bf0",
   "metadata": {},
   "outputs": [
    {
     "ename": "NameError",
     "evalue": "name 'df' is not defined",
     "output_type": "error",
     "traceback": [
      "\u001b[1;31m---------------------------------------------------------------------------\u001b[0m",
      "\u001b[1;31mNameError\u001b[0m                                 Traceback (most recent call last)",
      "Cell \u001b[1;32mIn[5], line 1\u001b[0m\n\u001b[1;32m----> 1\u001b[0m \u001b[43mdf\u001b[49m[\u001b[38;5;124m'\u001b[39m\u001b[38;5;124mtarget\u001b[39m\u001b[38;5;124m'\u001b[39m] \u001b[38;5;241m=\u001b[39m iris\u001b[38;5;241m.\u001b[39mtarget\n",
      "\u001b[1;31mNameError\u001b[0m: name 'df' is not defined"
     ]
    }
   ],
   "source": [
    "df['target'] = iris.target()"
   ]
  },
  {
   "cell_type": "code",
   "execution_count": null,
   "id": "8c529905-b237-442d-a0a4-b8382e5eae51",
   "metadata": {},
   "outputs": [],
   "source": [
    "df[df.target==0].head()"
   ]
  },
  {
   "cell_type": "code",
   "execution_count": null,
   "id": "169792ed-6195-408e-91f6-12ac737a40a5",
   "metadata": {},
   "outputs": [],
   "source": [
    "df['flower name'] = df.target.apply(lambda x : iris.target_names[x])"
   ]
  },
  {
   "cell_type": "code",
   "execution_count": null,
   "id": "05475932-ce99-4a3b-9446-c2bc05a8ad2d",
   "metadata": {},
   "outputs": [],
   "source": [
    "df[95:105]"
   ]
  },
  {
   "cell_type": "code",
   "execution_count": null,
   "id": "7afa701d-fbc8-413e-a096-cae0523bc2f0",
   "metadata": {},
   "outputs": [],
   "source": [
    "df0 =df[:50]\n",
    "df1 = df[50:100]\n",
    "df2 = df[100:]"
   ]
  },
  {
   "cell_type": "code",
   "execution_count": null,
   "id": "0ab54e9e-a582-4ac6-8f6b-8e7fdd0e2d09",
   "metadata": {},
   "outputs": [],
   "source": [
    "import matplotlib as plt\n",
    "plt.scatter(df0['sepal length (cm)'], df0['sepal length (cm)'])\n",
    "plt.scatter(df1['sepal length (cm)'], df1['sepal length (cm)'])"
   ]
  },
  {
   "cell_type": "code",
   "execution_count": 1,
   "id": "cf8a2cab-bde6-4b92-99da-4955eddd0888",
   "metadata": {},
   "outputs": [],
   "source": [
    "from sklearn.svm import SVC\n",
    "model = SVC()"
   ]
  },
  {
   "cell_type": "code",
   "execution_count": 2,
   "id": "929feef9-8c80-4d99-92eb-2e3e51a9d87b",
   "metadata": {},
   "outputs": [
    {
     "ename": "SyntaxError",
     "evalue": "unmatched ']' (884525339.py, line 2)",
     "output_type": "error",
     "traceback": [
      "\u001b[1;36m  Cell \u001b[1;32mIn[2], line 2\u001b[1;36m\u001b[0m\n\u001b[1;33m    x = df.drop['target', 'flower name'], axis = 'columns']\u001b[0m\n\u001b[1;37m                                                          ^\u001b[0m\n\u001b[1;31mSyntaxError\u001b[0m\u001b[1;31m:\u001b[0m unmatched ']'\n"
     ]
    }
   ],
   "source": [
    "from sklearn.model_selection import train_test_split\n",
    "x = df.drop['target', 'flower name'], axis = 'columns')"
   ]
  },
  {
   "cell_type": "code",
   "execution_count": 3,
   "id": "126f7acb-a45e-4993-8ea9-2cd1d82ad737",
   "metadata": {},
   "outputs": [
    {
     "ename": "NameError",
     "evalue": "name 'df' is not defined",
     "output_type": "error",
     "traceback": [
      "\u001b[1;31m---------------------------------------------------------------------------\u001b[0m",
      "\u001b[1;31mNameError\u001b[0m                                 Traceback (most recent call last)",
      "Cell \u001b[1;32mIn[3], line 1\u001b[0m\n\u001b[1;32m----> 1\u001b[0m y \u001b[38;5;241m=\u001b[39m \u001b[43mdf\u001b[49m\u001b[38;5;241m.\u001b[39mtarget\n",
      "\u001b[1;31mNameError\u001b[0m: name 'df' is not defined"
     ]
    }
   ],
   "source": [
    "y = df.target"
   ]
  },
  {
   "cell_type": "code",
   "execution_count": null,
   "id": "a81b7dca-508e-4c85-85a0-19676408b4d2",
   "metadata": {},
   "outputs": [],
   "source": [
    "x_train, x_text,y_train, y_text = train_test_split(x,y)"
   ]
  },
  {
   "cell_type": "code",
   "execution_count": null,
   "id": "1ee62d4a-1bea-478c-8c62-bd9058c8ea92",
   "metadata": {},
   "outputs": [],
   "source": []
  },
  {
   "cell_type": "code",
   "execution_count": null,
   "id": "2a44b0aa-af3f-45d7-8358-5a861bfa5380",
   "metadata": {},
   "outputs": [],
   "source": [
    "model.predict([[4,4,4,4]])"
   ]
  },
  {
   "cell_type": "code",
   "execution_count": null,
   "id": "bd92975c-942d-47ef-875b-6275a73a45e3",
   "metadata": {},
   "outputs": [],
   "source": [
    "x_test"
   ]
  },
  {
   "cell_type": "code",
   "execution_count": null,
   "id": "295628b7-5dc9-4da4-a27d-b624ec1c6f11",
   "metadata": {},
   "outputs": [],
   "source": [
    "y_test"
   ]
  },
  {
   "cell_type": "code",
   "execution_count": null,
   "id": "043b337a-6657-414f-9c1f-be9397ba7bf3",
   "metadata": {},
   "outputs": [],
   "source": [
    "model.score(x_test, y_test)"
   ]
  },
  {
   "cell_type": "code",
   "execution_count": null,
   "id": "9ab9ab93-3b37-43ab-b79b-1150f4f3ef20",
   "metadata": {},
   "outputs": [],
   "source": []
  },
  {
   "cell_type": "code",
   "execution_count": null,
   "id": "d452a921-eb2f-424b-ac31-27a1c721dd2c",
   "metadata": {},
   "outputs": [],
   "source": []
  },
  {
   "cell_type": "code",
   "execution_count": null,
   "id": "51a25a3a-6551-4066-b867-4c1b4485df55",
   "metadata": {},
   "outputs": [],
   "source": []
  },
  {
   "cell_type": "code",
   "execution_count": null,
   "id": "a6902c2f-9f73-4eb9-a4c0-48766d70ba9a",
   "metadata": {},
   "outputs": [],
   "source": []
  },
  {
   "cell_type": "code",
   "execution_count": null,
   "id": "61e70a38-7de7-44a9-bf6d-dbfaa6b19129",
   "metadata": {},
   "outputs": [],
   "source": []
  },
  {
   "cell_type": "code",
   "execution_count": null,
   "id": "a0055ce9-7af9-4509-b4f9-6dc937688b53",
   "metadata": {},
   "outputs": [],
   "source": []
  }
 ],
 "metadata": {
  "kernelspec": {
   "display_name": "Python 3 (ipykernel)",
   "language": "python",
   "name": "python3"
  },
  "language_info": {
   "codemirror_mode": {
    "name": "ipython",
    "version": 3
   },
   "file_extension": ".py",
   "mimetype": "text/x-python",
   "name": "python",
   "nbconvert_exporter": "python",
   "pygments_lexer": "ipython3",
   "version": "3.10.11"
  }
 },
 "nbformat": 4,
 "nbformat_minor": 5
}
