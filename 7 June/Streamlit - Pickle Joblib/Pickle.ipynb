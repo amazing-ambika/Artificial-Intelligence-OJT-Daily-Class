{
  "nbformat": 4,
  "nbformat_minor": 0,
  "metadata": {
    "colab": {
      "provenance": []
    },
    "kernelspec": {
      "name": "python3",
      "display_name": "Python 3"
    },
    "language_info": {
      "name": "python"
    }
  },
  "cells": [
    {
      "cell_type": "code",
      "execution_count": 1,
      "metadata": {
        "id": "fD6SdTPYIk6Q"
      },
      "outputs": [],
      "source": [
        "import pickle"
      ]
    },
    {
      "cell_type": "code",
      "source": [
        "with open('model_pickle','rb') as f:\n",
        "    model2=pickle.load(f)\n",
        "\n",
        "    # rb as our data is in binary - so read binary"
      ],
      "metadata": {
        "id": "TywjFDKCIm4B"
      },
      "execution_count": 5,
      "outputs": []
    },
    {
      "cell_type": "code",
      "source": [
        "model2.coef_"
      ],
      "metadata": {
        "id": "yoN8d9ZNIm7J",
        "colab": {
          "base_uri": "https://localhost:8080/"
        },
        "outputId": "46b4eae9-dc74-4cc6-867d-5fe29fde87de"
      },
      "execution_count": 6,
      "outputs": [
        {
          "output_type": "execute_result",
          "data": {
            "text/plain": [
              "array([4635.5704698])"
            ]
          },
          "metadata": {},
          "execution_count": 6
        }
      ]
    },
    {
      "cell_type": "code",
      "source": [
        "model2.intercept_"
      ],
      "metadata": {
        "id": "dvsdLBCBIm9y",
        "colab": {
          "base_uri": "https://localhost:8080/"
        },
        "outputId": "7527a430-dbab-4c01-dcd0-6a44147c3b03"
      },
      "execution_count": 7,
      "outputs": [
        {
          "output_type": "execute_result",
          "data": {
            "text/plain": [
              "-1352214.7651006705"
            ]
          },
          "metadata": {},
          "execution_count": 7
        }
      ]
    },
    {
      "cell_type": "code",
      "source": [
        "model2.predict([[1500]])"
      ],
      "metadata": {
        "id": "9hKfxl4QJAMf",
        "colab": {
          "base_uri": "https://localhost:8080/"
        },
        "outputId": "f92e55a0-6f0a-4b6e-e411-a93497a6d5a5"
      },
      "execution_count": 8,
      "outputs": [
        {
          "output_type": "stream",
          "name": "stderr",
          "text": [
            "/usr/local/lib/python3.10/dist-packages/sklearn/base.py:439: UserWarning: X does not have valid feature names, but LinearRegression was fitted with feature names\n",
            "  warnings.warn(\n"
          ]
        },
        {
          "output_type": "execute_result",
          "data": {
            "text/plain": [
              "array([5601140.93959732])"
            ]
          },
          "metadata": {},
          "execution_count": 8
        }
      ]
    },
    {
      "cell_type": "code",
      "source": [
        "# pickle to be able to use it later"
      ],
      "metadata": {
        "id": "T84aaSvPJAPH"
      },
      "execution_count": null,
      "outputs": []
    }
  ]
}