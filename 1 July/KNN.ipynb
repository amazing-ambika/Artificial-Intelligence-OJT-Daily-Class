{
 "cells": [
  {
   "cell_type": "code",
   "execution_count": 5,
   "id": "8f759445-6132-440b-8691-3dae8949f731",
   "metadata": {},
   "outputs": [],
   "source": [
    "from sklearn.datasets import load_iris"
   ]
  },
  {
   "cell_type": "raw",
   "id": "267d087a-e283-49ce-a27b-87dc6146542b",
   "metadata": {},
   "source": [
    "iris = load_iris()"
   ]
  },
  {
   "cell_type": "raw",
   "id": "640d0a3a-c651-4d02-b7f2-56f6c3b965b2",
   "metadata": {},
   "source": [
    "impot pandas as pd\n",
    "df = pd.DataFrame(iris.data, columns= iris"
   ]
  },
  {
   "cell_type": "code",
   "execution_count": 6,
   "id": "0c161813-8c87-49f6-9dae-9827668502e3",
   "metadata": {},
   "outputs": [
    {
     "ename": "NameError",
     "evalue": "name 'df' is not defined",
     "output_type": "error",
     "traceback": [
      "\u001b[1;31m---------------------------------------------------------------------------\u001b[0m",
      "\u001b[1;31mNameError\u001b[0m                                 Traceback (most recent call last)",
      "Cell \u001b[1;32mIn[6], line 1\u001b[0m\n\u001b[1;32m----> 1\u001b[0m \u001b[43mdf\u001b[49m\n",
      "\u001b[1;31mNameError\u001b[0m: name 'df' is not defined"
     ]
    }
   ],
   "source": [
    "df"
   ]
  },
  {
   "cell_type": "code",
   "execution_count": 7,
   "id": "419ed656-b9eb-47d8-89b9-af925ce79543",
   "metadata": {},
   "outputs": [
    {
     "ename": "NameError",
     "evalue": "name 'iris' is not defined",
     "output_type": "error",
     "traceback": [
      "\u001b[1;31m---------------------------------------------------------------------------\u001b[0m",
      "\u001b[1;31mNameError\u001b[0m                                 Traceback (most recent call last)",
      "Cell \u001b[1;32mIn[7], line 1\u001b[0m\n\u001b[1;32m----> 1\u001b[0m df[\u001b[38;5;124m'\u001b[39m\u001b[38;5;124mtarget\u001b[39m\u001b[38;5;124m'\u001b[39m] \u001b[38;5;241m=\u001b[39m \u001b[43miris\u001b[49m\u001b[38;5;241m.\u001b[39mtarget\n",
      "\u001b[1;31mNameError\u001b[0m: name 'iris' is not defined"
     ]
    }
   ],
   "source": [
    "df['target'] = iris.target"
   ]
  },
  {
   "cell_type": "code",
   "execution_count": 8,
   "id": "e7c0c283-3226-4833-9470-32658e0e5e96",
   "metadata": {},
   "outputs": [
    {
     "ename": "NameError",
     "evalue": "name 'df' is not defined",
     "output_type": "error",
     "traceback": [
      "\u001b[1;31m---------------------------------------------------------------------------\u001b[0m",
      "\u001b[1;31mNameError\u001b[0m                                 Traceback (most recent call last)",
      "Cell \u001b[1;32mIn[8], line 1\u001b[0m\n\u001b[1;32m----> 1\u001b[0m \u001b[43mdf\u001b[49m\n",
      "\u001b[1;31mNameError\u001b[0m: name 'df' is not defined"
     ]
    }
   ],
   "source": [
    "df"
   ]
  },
  {
   "cell_type": "code",
   "execution_count": 9,
   "id": "e4a215b9-9f04-4a15-af60-53bb1ca3d047",
   "metadata": {},
   "outputs": [
    {
     "ename": "NameError",
     "evalue": "name 'df' is not defined",
     "output_type": "error",
     "traceback": [
      "\u001b[1;31m---------------------------------------------------------------------------\u001b[0m",
      "\u001b[1;31mNameError\u001b[0m                                 Traceback (most recent call last)",
      "Cell \u001b[1;32mIn[9], line 1\u001b[0m\n\u001b[1;32m----> 1\u001b[0m df0 \u001b[38;5;241m=\u001b[39m \u001b[43mdf\u001b[49m[:\u001b[38;5;241m50\u001b[39m]\n\u001b[0;32m      2\u001b[0m df1 \u001b[38;5;241m=\u001b[39mdf[\u001b[38;5;241m50\u001b[39m:\u001b[38;5;241m100\u001b[39m]\n\u001b[0;32m      3\u001b[0m df2 \u001b[38;5;241m=\u001b[39mdf[\u001b[38;5;241m100\u001b[39m:\u001b[38;5;241m150\u001b[39m]\n",
      "\u001b[1;31mNameError\u001b[0m: name 'df' is not defined"
     ]
    }
   ],
   "source": [
    "df0 = df[:50]\n",
    "df1 =df[50:100]\n",
    "df2 =df[100:150]"
   ]
  },
  {
   "cell_type": "code",
   "execution_count": 10,
   "id": "6b0577db-7a58-4425-bda6-491c22b89eca",
   "metadata": {},
   "outputs": [],
   "source": [
    "import matplotlib.pyplot as plt"
   ]
  },
  {
   "cell_type": "code",
   "execution_count": 11,
   "id": "502c5ed0-76e4-491e-b1f7-a30da9f560ff",
   "metadata": {},
   "outputs": [
    {
     "ename": "NameError",
     "evalue": "name 'df0' is not defined",
     "output_type": "error",
     "traceback": [
      "\u001b[1;31m---------------------------------------------------------------------------\u001b[0m",
      "\u001b[1;31mNameError\u001b[0m                                 Traceback (most recent call last)",
      "Cell \u001b[1;32mIn[11], line 1\u001b[0m\n\u001b[1;32m----> 1\u001b[0m plt\u001b[38;5;241m.\u001b[39mscatter(\u001b[43mdf0\u001b[49m[\u001b[38;5;124m'\u001b[39m\u001b[38;5;124msepal_length(cm)\u001b[39m\u001b[38;5;124m'\u001b[39m],df0[\u001b[38;5;124m'\u001b[39m\u001b[38;5;124msepal_width(cm)\u001b[39m\u001b[38;5;124m'\u001b[39m])\n\u001b[0;32m      2\u001b[0m plt\u001b[38;5;241m.\u001b[39mscatter(df1[\u001b[38;5;124m'\u001b[39m\u001b[38;5;124msepal_length(cm)\u001b[39m\u001b[38;5;124m'\u001b[39m],df0[\u001b[38;5;124m'\u001b[39m\u001b[38;5;124msepal_width(cm)\u001b[39m\u001b[38;5;124m'\u001b[39m])\n\u001b[0;32m      3\u001b[0m plt\u001b[38;5;241m.\u001b[39mscatter(df2[\u001b[38;5;124m'\u001b[39m\u001b[38;5;124msepal_length(cm)\u001b[39m\u001b[38;5;124m'\u001b[39m],df0[\u001b[38;5;124m'\u001b[39m\u001b[38;5;124msepal_width(cm)\u001b[39m\u001b[38;5;124m'\u001b[39m])\n",
      "\u001b[1;31mNameError\u001b[0m: name 'df0' is not defined"
     ]
    }
   ],
   "source": [
    "plt.scatter(df0['sepal_length(cm)'],df0['sepal_width(cm)'])\n",
    "plt.scatter(df1['sepal_length(cm)'],df0['sepal_width(cm)'])\n",
    "plt.scatter(df2['sepal_length(cm)'],df0['sepal_width(cm)'])"
   ]
  },
  {
   "cell_type": "code",
   "execution_count": null,
   "id": "ca471f6a-ecf3-41b6-aa9f-7abd8ae0038f",
   "metadata": {},
   "outputs": [],
   "source": []
  },
  {
   "cell_type": "code",
   "execution_count": null,
   "id": "715a8811-7b54-49b2-9439-b0e0b1c8b467",
   "metadata": {},
   "outputs": [],
   "source": []
  },
  {
   "cell_type": "code",
   "execution_count": null,
   "id": "8679aa5f-87bf-4c60-8f36-9f8e782135e7",
   "metadata": {},
   "outputs": [],
   "source": []
  }
 ],
 "metadata": {
  "kernelspec": {
   "display_name": "Python 3 (ipykernel)",
   "language": "python",
   "name": "python3"
  },
  "language_info": {
   "codemirror_mode": {
    "name": "ipython",
    "version": 3
   },
   "file_extension": ".py",
   "mimetype": "text/x-python",
   "name": "python",
   "nbconvert_exporter": "python",
   "pygments_lexer": "ipython3",
   "version": "3.10.11"
  }
 },
 "nbformat": 4,
 "nbformat_minor": 5
}
